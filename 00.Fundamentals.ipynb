{
 "cells": [
  {
   "cell_type": "markdown",
   "id": "f4c7d847",
   "metadata": {
    "cellId": "6rv2gi5wbbvo9we65k0t",
    "execution_id": "7a2038a3-4288-4978-acc3-f1ba2f8a0572"
   },
   "source": [
    "# 00. PyTorch Fundamentals\n",
    "Resource notebook: https://www.learnpytorch.io/00_pytorch_fundamentals/"
   ]
  },
  {
   "cell_type": "code",
   "execution_count": 3,
   "id": "763c2a2b",
   "metadata": {
    "cellId": "4bmeb1hp1jeykqgqlajph8"
   },
   "outputs": [
    {
     "name": "stdout",
     "output_type": "stream",
     "text": [
      "1.9.1+cu111\n"
     ]
    }
   ],
   "source": [
    "import torch\n",
    "import pandas\n",
    "import numpy as np\n",
    "import matplotlib.pyplot as plt\n",
    "print(torch.__version__)"
   ]
  },
  {
   "cell_type": "markdown",
   "id": "d9ca7a9b",
   "metadata": {
    "cellId": "fjhwxchbzkujzdzrqed0a",
    "execution_id": "3d5136aa-c9cb-4812-b877-0df3aa9a0aa8"
   },
   "source": [
    "## Introduction to tensors\n",
    "\n",
    "### Creating tensors"
   ]
  },
  {
   "cell_type": "code",
   "execution_count": 13,
   "id": "b225a528",
   "metadata": {
    "cellId": "i0e1oe2kqriooikxyzkvi"
   },
   "outputs": [
    {
     "data": {
      "text/plain": [
       "tensor(7)"
      ]
     },
     "execution_count": 13,
     "metadata": {},
     "output_type": "execute_result"
    }
   ],
   "source": [
    "# scalar\n",
    "scalar = torch.tensor(7)\n",
    "scalar"
   ]
  },
  {
   "cell_type": "code",
   "execution_count": 14,
   "id": "711bd179",
   "metadata": {
    "cellId": "lqfzlpjg11gcrmr5lmiueg"
   },
   "outputs": [
    {
     "data": {
      "text/plain": [
       "0"
      ]
     },
     "execution_count": 14,
     "metadata": {},
     "output_type": "execute_result"
    }
   ],
   "source": [
    "scalar.ndim"
   ]
  },
  {
   "cell_type": "code",
   "execution_count": 15,
   "id": "6db59b1a",
   "metadata": {
    "cellId": "r8ymlul3o5yyii1ob0hob"
   },
   "outputs": [
    {
     "data": {
      "text/plain": [
       "7"
      ]
     },
     "execution_count": 15,
     "metadata": {},
     "output_type": "execute_result"
    }
   ],
   "source": [
    "# Get tensor back as Pythin int\n",
    "scalar.item()"
   ]
  },
  {
   "cell_type": "code",
   "execution_count": 16,
   "id": "b854d188",
   "metadata": {
    "cellId": "i58fdi0z3mhmlcd53b8ikd"
   },
   "outputs": [
    {
     "data": {
      "text/plain": [
       "tensor([7, 7])"
      ]
     },
     "execution_count": 16,
     "metadata": {},
     "output_type": "execute_result"
    }
   ],
   "source": [
    "# Vector\n",
    "vector = torch.tensor([7,7])\n",
    "vector"
   ]
  },
  {
   "cell_type": "code",
   "execution_count": 18,
   "id": "7484f7f0",
   "metadata": {
    "cellId": "stdxdok6u5b9e8y8mib0ie"
   },
   "outputs": [
    {
     "data": {
      "text/plain": [
       "1"
      ]
     },
     "execution_count": 18,
     "metadata": {},
     "output_type": "execute_result"
    }
   ],
   "source": [
    "vector.ndim"
   ]
  },
  {
   "cell_type": "code",
   "execution_count": 19,
   "id": "eb39a7c8",
   "metadata": {
    "cellId": "cm7qch0wqj5ed6koki34vb"
   },
   "outputs": [
    {
     "data": {
      "text/plain": [
       "tensor([[ 7,  8],\n",
       "        [ 9, 10]])"
      ]
     },
     "execution_count": 19,
     "metadata": {},
     "output_type": "execute_result"
    }
   ],
   "source": [
    "# MATRIX\n",
    "MATRIX = torch.tensor([[7, 8],\n",
    "                       [9, 10]])\n",
    "MATRIX"
   ]
  },
  {
   "cell_type": "code",
   "execution_count": 21,
   "id": "38b0b12c",
   "metadata": {
    "cellId": "glqzntdrnca0jw91cp3bipe"
   },
   "outputs": [
    {
     "data": {
      "text/plain": [
       "(2, torch.Size([2, 2]))"
      ]
     },
     "execution_count": 21,
     "metadata": {},
     "output_type": "execute_result"
    }
   ],
   "source": [
    "MATRIX.ndim, MATRIX.shape"
   ]
  },
  {
   "cell_type": "code",
   "execution_count": 23,
   "id": "6fb229ac",
   "metadata": {
    "cellId": "r3nvpuq3ytl7f6sx7ff7"
   },
   "outputs": [
    {
     "data": {
      "text/plain": [
       "tensor(10)"
      ]
     },
     "execution_count": 23,
     "metadata": {},
     "output_type": "execute_result"
    }
   ],
   "source": [
    "MATRIX[1][1]"
   ]
  },
  {
   "cell_type": "code",
   "execution_count": 24,
   "id": "c97931b8",
   "metadata": {
    "cellId": "0ecj339e2evlay5ug47ni9"
   },
   "outputs": [
    {
     "data": {
      "text/plain": [
       "tensor(10)"
      ]
     },
     "execution_count": 24,
     "metadata": {},
     "output_type": "execute_result"
    }
   ],
   "source": [
    "MATRIX[1,1]"
   ]
  },
  {
   "cell_type": "code",
   "execution_count": 27,
   "id": "0feafb01",
   "metadata": {
    "cellId": "k5qb44feoq8imryklwvfzq"
   },
   "outputs": [
    {
     "data": {
      "text/plain": [
       "tensor([[[4, 5, 7],\n",
       "         [3, 6, 8],\n",
       "         [9, 7, 5]],\n",
       "\n",
       "        [[1, 2, 4],\n",
       "         [9, 6, 5],\n",
       "         [1, 2, 3]]])"
      ]
     },
     "execution_count": 27,
     "metadata": {},
     "output_type": "execute_result"
    }
   ],
   "source": [
    "# TENSOR\n",
    "TENSOR = torch.tensor([[[4, 5, 7],\n",
    "                        [3, 6, 8],\n",
    "                        [ 9, 7, 5]],\n",
    "                      \n",
    "                       [[1, 2, 4],\n",
    "                        [9, 6, 5],\n",
    "                        [1, 2, 3]]\n",
    "                      ])\n",
    "TENSOR"
   ]
  },
  {
   "cell_type": "code",
   "execution_count": 28,
   "id": "72ae156e",
   "metadata": {
    "cellId": "y9g8o8kc7y5z0u9hphxwq"
   },
   "outputs": [
    {
     "data": {
      "text/plain": [
       "(3, torch.Size([2, 3, 3]))"
      ]
     },
     "execution_count": 28,
     "metadata": {},
     "output_type": "execute_result"
    }
   ],
   "source": [
    "TENSOR.ndim, TENSOR.shape"
   ]
  },
  {
   "cell_type": "markdown",
   "id": "be2d715a",
   "metadata": {
    "cellId": "lm9a6fstpl7foltiop9og",
    "execution_id": "cef8c904-a82d-41d0-95f3-a190628b38ea"
   },
   "source": [
    "### Random tensors"
   ]
  },
  {
   "cell_type": "code",
   "execution_count": 33,
   "id": "dbaa5c5c",
   "metadata": {
    "cellId": "ojd29g27lenc96jpllvils"
   },
   "outputs": [
    {
     "data": {
      "text/plain": [
       "tensor([[0.5441, 0.5777, 0.5268, 0.2589],\n",
       "        [0.5138, 0.2979, 0.2825, 0.8271],\n",
       "        [0.2729, 0.8411, 0.4133, 0.2881]])"
      ]
     },
     "execution_count": 33,
     "metadata": {},
     "output_type": "execute_result"
    }
   ],
   "source": [
    "### Create a random tensor of size (3, 4)\n",
    "random_tensor = torch.rand(3, 4)\n",
    "random_tensor"
   ]
  },
  {
   "cell_type": "code",
   "execution_count": 34,
   "id": "ff6e499b",
   "metadata": {
    "cellId": "s6o89tglj9no30cajtb4uj"
   },
   "outputs": [
    {
     "data": {
      "text/plain": [
       "(2, torch.Size([3, 4]))"
      ]
     },
     "execution_count": 34,
     "metadata": {},
     "output_type": "execute_result"
    }
   ],
   "source": [
    "random_tensor.ndim, random_tensor.shape"
   ]
  },
  {
   "cell_type": "code",
   "execution_count": 35,
   "id": "b42b95cd",
   "metadata": {
    "cellId": "jpwz3lgdyl4hie9na01ad"
   },
   "outputs": [
    {
     "data": {
      "text/plain": [
       "(3, torch.Size([3, 224, 224]))"
      ]
     },
     "execution_count": 35,
     "metadata": {},
     "output_type": "execute_result"
    }
   ],
   "source": [
    "# Create a random tensor with a similar shape to an image tensor\n",
    "random_image_size_tensor = torch.rand(size=(3, 224, 224))\n",
    "random_image_size_tensor.ndim, random_image_size_tensor.shape"
   ]
  },
  {
   "cell_type": "markdown",
   "id": "17b6ecfa",
   "metadata": {
    "cellId": "2r1vojipxo4k19x53qz7cm",
    "execution_id": "3b2df94f-3018-401f-aabd-aef332bd9765"
   },
   "source": [
    "### Zeros and ones"
   ]
  },
  {
   "cell_type": "code",
   "execution_count": 38,
   "id": "5b5e8419",
   "metadata": {
    "cellId": "p4w8sxx5gu836bo6r4lwla"
   },
   "outputs": [
    {
     "data": {
      "text/plain": [
       "tensor([[0., 0., 0., 0.],\n",
       "        [0., 0., 0., 0.],\n",
       "        [0., 0., 0., 0.]])"
      ]
     },
     "execution_count": 38,
     "metadata": {},
     "output_type": "execute_result"
    }
   ],
   "source": [
    "# Create a tensor of all zeros\n",
    "zeros = torch.zeros(size=(3, 4))\n",
    "zeros"
   ]
  },
  {
   "cell_type": "code",
   "execution_count": 42,
   "id": "e925a771",
   "metadata": {
    "cellId": "sa5ernjaz19tx5m6w27vh"
   },
   "outputs": [
    {
     "data": {
      "text/plain": [
       "tensor([[1., 1., 1., 1.],\n",
       "        [1., 1., 1., 1.],\n",
       "        [1., 1., 1., 1.]])"
      ]
     },
     "execution_count": 42,
     "metadata": {},
     "output_type": "execute_result"
    }
   ],
   "source": [
    "# Create a tensor of all ones\n",
    "ones = torch.ones(size=(3, 4))\n",
    "ones"
   ]
  },
  {
   "cell_type": "code",
   "execution_count": 43,
   "id": "6e3cb017",
   "metadata": {
    "cellId": "5n36h11zt0eaqdqa8cdoq"
   },
   "outputs": [
    {
     "data": {
      "text/plain": [
       "torch.float32"
      ]
     },
     "execution_count": 43,
     "metadata": {},
     "output_type": "execute_result"
    }
   ],
   "source": [
    "ones.dtype"
   ]
  },
  {
   "cell_type": "code",
   "execution_count": null,
   "id": "89cab2ea",
   "metadata": {
    "cellId": "op69ret4yno8s9lhl64zlv"
   },
   "outputs": [],
   "source": []
  },
  {
   "cell_type": "code",
   "execution_count": null,
   "id": "bb9ecc4f",
   "metadata": {
    "cellId": "r2mk54cv8djm2xl8zwv4al"
   },
   "outputs": [],
   "source": []
  }
 ],
 "metadata": {
  "language_info": {
   "codemirror_mode": {
    "name": "ipython",
    "version": 3
   },
   "file_extension": ".py",
   "mimetype": "text/x-python",
   "name": "python",
   "nbconvert_exporter": "python",
   "pygments_lexer": "ipython3",
   "version": "3.7.7"
  },
  "notebookId": "c9bba104-c14a-4634-add2-5803d008ce85",
  "notebookPath": "PyTorchAllThings/Untitled.ipynb"
 },
 "nbformat": 4,
 "nbformat_minor": 5
}
